{
  "cells": [
    {
      "cell_type": "markdown",
      "metadata": {
        "id": "ZIcx36QOQju6"
      },
      "source": [
        "# Pet Database\n",
        "#### Group 11\n",
        "### D532 Final Project"
      ]
    },
    {
      "cell_type": "markdown",
      "metadata": {
        "id": "F7spLeYFQju_"
      },
      "source": [
        "## imports:\n",
        "####      1.SQLite3 this is our database\n",
        "####      2.pandas - this allows us to manipulate the data and run sql"
      ]
    },
    {
      "cell_type": "code",
      "execution_count": 36,
      "metadata": {
        "id": "N5gyy36UQju_"
      },
      "outputs": [],
      "source": [
        "import sqlite3\n",
        "import pandas as pd"
      ]
    },
    {
      "cell_type": "markdown",
      "metadata": {
        "id": "2yi1fM8KQjvB"
      },
      "source": [
        "### Connecting to the pets sqlite3 database"
      ]
    },
    {
      "cell_type": "code",
      "execution_count": 37,
      "metadata": {
        "id": "q1AlmtTDQjvB"
      },
      "outputs": [],
      "source": [
        "conn = sqlite3.connect('pets.db')\n",
        "c = conn.cursor()"
      ]
    },
    {
      "cell_type": "markdown",
      "metadata": {
        "id": "HdGpw15UQjvC"
      },
      "source": [
        "### Importing Raw CSV of our data"
      ]
    },
    {
      "cell_type": "code",
      "execution_count": 38,
      "metadata": {
        "colab": {
          "base_uri": "https://localhost:8080/"
        },
        "id": "yRmCgHwvQjvC",
        "outputId": "7e872b69-9ed9-4ae8-e4c4-2930f86593f7"
      },
      "outputs": [
        {
          "data": {
            "text/plain": [
              "58"
            ]
          },
          "execution_count": 38,
          "metadata": {},
          "output_type": "execute_result"
        }
      ],
      "source": [
        "read_emp = pd.read_csv(r'Adoptable_Pets.csv')\n",
        "read_emp.to_sql('pets_raw_csv', conn, if_exists='replace', index = False)"
      ]
    },
    {
      "cell_type": "markdown",
      "metadata": {
        "id": "jYkljv2bQjvF"
      },
      "source": [
        "### Intake Table"
      ]
    },
    {
      "cell_type": "code",
      "execution_count": 39,
      "metadata": {
        "colab": {
          "base_uri": "https://localhost:8080/"
        },
        "id": "QKMcyf9CQjvG",
        "outputId": "7f060922-2635-4f84-8f83-f7911a0f8dd8"
      },
      "outputs": [
        {
          "data": {
            "text/plain": [
              "<sqlite3.Cursor at 0x15af846c0>"
            ]
          },
          "execution_count": 39,
          "metadata": {},
          "output_type": "execute_result"
        }
      ],
      "source": [
        "c.execute('drop table if exists intake;')\n",
        "intake_table = '''\n",
        "    CREATE TABLE IF NOT EXISTS intake(\n",
        "intake_type_id varchar(20) PRIMARY KEY,\n",
        "intake_type_desc varchar(50) NOT NULL,\n",
        "CONSTRAINT CHK_INTAKE CHECK (intake_type_id IN ('OWNER SUR', 'EUTH REQ', 'STRAY', 'FOSTER', 'BOARDING', 'RETURN'))\n",
        ");'''\n",
        "c.execute(intake_table)"
      ]
    },
    {
      "cell_type": "markdown",
      "metadata": {},
      "source": [
        "### Adoption Status"
      ]
    },
    {
      "cell_type": "code",
      "execution_count": 40,
      "metadata": {},
      "outputs": [
        {
          "data": {
            "text/plain": [
              "<sqlite3.Cursor at 0x15af846c0>"
            ]
          },
          "execution_count": 40,
          "metadata": {},
          "output_type": "execute_result"
        }
      ],
      "source": [
        "c.execute('DROP TABLE IF EXISTS adoption_status;')\n",
        "adoption_status_table = '''\n",
        "    CREATE TABLE IF NOT EXISTS adoption_status(\n",
        "        animal_id INTEGER PRIMARY KEY,\n",
        "        adoption_status BOOLEAN,\n",
        "        CONSTRAINT CHK_ADOPT CHECK (adoption_status IN (0, 1))\n",
        "    );'''\n",
        "c.execute(adoption_status_table)\n"
      ]
    },
    {
      "cell_type": "markdown",
      "metadata": {
        "id": "7kjdc-rNQjvH"
      },
      "source": [
        "### Pet Size"
      ]
    },
    {
      "cell_type": "code",
      "execution_count": 41,
      "metadata": {
        "colab": {
          "base_uri": "https://localhost:8080/"
        },
        "id": "TkNeNXErQjvH",
        "outputId": "1cbb972f-ed6c-48de-f18f-ec56d79a16f6"
      },
      "outputs": [
        {
          "data": {
            "text/plain": [
              "<sqlite3.Cursor at 0x15af846c0>"
            ]
          },
          "execution_count": 41,
          "metadata": {},
          "output_type": "execute_result"
        }
      ],
      "source": [
        "pet_size_table = '''\n",
        "    CREATE TABLE IF NOT EXISTS pet_size(\n",
        "pet_size_id char(1) PRIMARY KEY,\n",
        "pet_size_desc varchar(10),\n",
        "CONSTRAINT CHK_PETSIZE_ID CHECK (pet_size_id IN ('S', 'M', 'L')),\n",
        "CONSTRAINT CHK_PETSIZE CHECK (pet_size_desc IN ('SMALL','MED','LARGE'))\n",
        ");'''\n",
        "c.execute(pet_size_table)"
      ]
    },
    {
      "cell_type": "markdown",
      "metadata": {
        "id": "uK3io5gpQjvI"
      },
      "source": [
        "### Sex"
      ]
    },
    {
      "cell_type": "code",
      "execution_count": 42,
      "metadata": {
        "colab": {
          "base_uri": "https://localhost:8080/"
        },
        "id": "KyMb6_c0QjvI",
        "outputId": "eae53bc9-ddb8-4460-b236-4df582884db7"
      },
      "outputs": [
        {
          "data": {
            "text/plain": [
              "<sqlite3.Cursor at 0x15af846c0>"
            ]
          },
          "execution_count": 42,
          "metadata": {},
          "output_type": "execute_result"
        }
      ],
      "source": [
        "sex_table = '''\n",
        "    CREATE TABLE IF NOT EXISTS sex_type(\n",
        "    sex_id CHAR(1) PRIMARY KEY,\n",
        "    sex_desc VARCHAR(10) NOT NULL,\n",
        "    CONSTRAINT CHK_sex_id CHECK (sex_id IN ('M', 'F', 'U', 'N', 'S')),\n",
        "    CONSTRAINT CHK_sex CHECK (sex_desc IN ('Male', 'Female', 'Unidentified', 'Neutral', 'Spayed'))\n",
        ");'''\n",
        "c.execute(sex_table)"
      ]
    },
    {
      "cell_type": "markdown",
      "metadata": {
        "id": "7MTWJlsWQjvJ"
      },
      "source": [
        "# Constraints\n",
        "\n",
        "##### Foreign keys:\n",
        "\n",
        "- (intake_type_id) - intake(intake_id)\n",
        "- (pet_size_id) - pet_size(pet_size_id)\n",
        "- (sex_id) - sex(sex_id)\n",
        "- Primary key - animal_id"
      ]
    },
    {
      "cell_type": "code",
      "execution_count": 43,
      "metadata": {
        "colab": {
          "base_uri": "https://localhost:8080/"
        },
        "id": "g-WinPyRQjvJ",
        "outputId": "42559f0d-3565-4d11-d959-43dc213e3eeb"
      },
      "outputs": [
        {
          "data": {
            "text/plain": [
              "<sqlite3.Cursor at 0x15af846c0>"
            ]
          },
          "execution_count": 43,
          "metadata": {},
          "output_type": "execute_result"
        }
      ],
      "source": [
        "# Drop the 'animal' table if it exists\n",
        "c.execute('DROP TABLE IF EXISTS animal')\n",
        "\n",
        "# Create the 'animal' table\n",
        "animal_table = '''\n",
        "    CREATE TABLE animal (\n",
        "        animal_id INTEGER PRIMARY KEY AUTOINCREMENT,\n",
        "        animal_type VARCHAR(100) NOT NULL,\n",
        "        pet_name VARCHAR(200) NOT NULL,\n",
        "        intake_type VARCHAR(20) NOT NULL,\n",
        "        in_date DATE NOT NULL,\n",
        "        pet_age VARCHAR(20) NOT NULL,\n",
        "        pet_size VARCHAR(10) NOT NULL,\n",
        "        color VARCHAR(50) NOT NULL,\n",
        "        breed VARCHAR(100) NOT NULL,\n",
        "        sex CHAR(1) NOT NULL,\n",
        "        url_link VARCHAR(400),\n",
        "        crossing VARCHAR(400),\n",
        "        FOREIGN KEY (intake_type) REFERENCES intake(intake_type_id),\n",
        "        FOREIGN KEY (pet_size) REFERENCES pet_size(pet_size_id),\n",
        "        FOREIGN KEY (sex) REFERENCES sex_type(sex_id)\n",
        "    )\n",
        "'''\n",
        "c.execute(animal_table)"
      ]
    },
    {
      "cell_type": "code",
      "execution_count": 44,
      "metadata": {
        "colab": {
          "base_uri": "https://localhost:8080/"
        },
        "id": "9AQJ8UkBhmIl",
        "outputId": "a4358a96-31fc-4b11-b251-b161619b1123"
      },
      "outputs": [
        {
          "data": {
            "text/plain": [
              "58"
            ]
          },
          "execution_count": 44,
          "metadata": {},
          "output_type": "execute_result"
        }
      ],
      "source": [
        "# Load data from pets_raw_csv into a DataFrame\n",
        "df = pd.read_sql_query('SELECT * FROM pets_raw_csv', conn)\n",
        "\n",
        "# Convert the 'in_date' column to the desired format\n",
        "df['in_date'] = pd.to_datetime(df['in_date'], format='%m/%d/%Y').dt.strftime('%Y-%m-%d')\n",
        "\n",
        "# Insert the modified DataFrame into the 'animal' table\n",
        "df.to_sql('animal', conn, if_exists='append', index=False)\n",
        "\n"
      ]
    },
    {
      "cell_type": "code",
      "execution_count": 45,
      "metadata": {
        "colab": {
          "base_uri": "https://localhost:8080/"
        },
        "id": "U4WYbwNHj_lx",
        "outputId": "546def99-a438-40d4-9054-521c360d9d37"
      },
      "outputs": [
        {
          "data": {
            "text/plain": [
              "[(1,\n",
              "  'OTHER',\n",
              "  'OSCAR',\n",
              "  'OWNER SUR',\n",
              "  '2024-01-28',\n",
              "  '6 YEARS',\n",
              "  'SMALL',\n",
              "  'BROWN',\n",
              "  'TURTLE',\n",
              "  'M',\n",
              "  'http://www.petharbor.com/get_image.asp?res=DETAIL&id=A451630&location=MONT',\n",
              "  None),\n",
              " (2,\n",
              "  'OTHER',\n",
              "  'FRANKLIN',\n",
              "  'OWNER SUR',\n",
              "  '2024-01-28',\n",
              "  '10 YEARS',\n",
              "  'MED',\n",
              "  'RED',\n",
              "  'TURTLE / REDEARED SLIDER',\n",
              "  'M',\n",
              "  'http://www.petharbor.com/get_image.asp?res=DETAIL&id=A439979&location=MONT',\n",
              "  None),\n",
              " (3,\n",
              "  'DOG',\n",
              "  '*RITA',\n",
              "  'OWNER SUR',\n",
              "  '2024-02-05',\n",
              "  '2 YEARS',\n",
              "  'MED',\n",
              "  'BRINDLE',\n",
              "  'AM PIT BULL TER',\n",
              "  'S',\n",
              "  'http://www.petharbor.com/get_image.asp?res=DETAIL&id=A507522&location=MONT',\n",
              "  None),\n",
              " (4,\n",
              "  'OTHER',\n",
              "  'YERTLE',\n",
              "  'OWNER SUR',\n",
              "  '2024-01-28',\n",
              "  '7 YEARS',\n",
              "  'SMALL',\n",
              "  'GREEN',\n",
              "  'TURTLE',\n",
              "  'F',\n",
              "  'http://www.petharbor.com/get_image.asp?res=DETAIL&id=A444157&location=MONT',\n",
              "  None),\n",
              " (5,\n",
              "  'DOG',\n",
              "  'NOVA',\n",
              "  'EUTH REQ',\n",
              "  '2023-12-08',\n",
              "  '2 YEARS',\n",
              "  'MED',\n",
              "  'TAN / WHITE',\n",
              "  'AM PIT BULL TER / MIX',\n",
              "  'S',\n",
              "  'http://www.petharbor.com/get_image.asp?res=DETAIL&id=A513554&location=MONT',\n",
              "  None),\n",
              " (6,\n",
              "  'OTHER',\n",
              "  'SHELLDON',\n",
              "  'OWNER SUR',\n",
              "  '2024-01-28',\n",
              "  '10 YEARS',\n",
              "  'SMALL',\n",
              "  'BROWN',\n",
              "  'TURTLE / REDEARED SLIDER',\n",
              "  'M',\n",
              "  'http://www.petharbor.com/get_image.asp?res=DETAIL&id=A439968&location=MONT',\n",
              "  None),\n",
              " (7,\n",
              "  'OTHER',\n",
              "  'VIVI',\n",
              "  'OWNER SUR',\n",
              "  '2024-01-13',\n",
              "  '5 YEARS',\n",
              "  'SMALL',\n",
              "  'BROWN',\n",
              "  'TURTLE',\n",
              "  'F',\n",
              "  'http://www.petharbor.com/get_image.asp?res=DETAIL&id=A514757&location=MONT',\n",
              "  None),\n",
              " (8,\n",
              "  'DOG',\n",
              "  'QUEEN',\n",
              "  'FOSTER',\n",
              "  '2024-03-24',\n",
              "  '5 YEARS',\n",
              "  'MED',\n",
              "  'TAN / WHITE',\n",
              "  'PHARAOH HOUND / MIX',\n",
              "  'S',\n",
              "  'http://www.petharbor.com/get_image.asp?res=DETAIL&id=A516426&location=MONT',\n",
              "  None),\n",
              " (9,\n",
              "  'OTHER',\n",
              "  '*SENORITA OREO',\n",
              "  'OWNER SUR',\n",
              "  '2024-02-10',\n",
              "  '3 YEARS',\n",
              "  'SMALL',\n",
              "  'WHITE / BLACK',\n",
              "  'RABBIT SH',\n",
              "  'S',\n",
              "  'http://www.petharbor.com/get_image.asp?res=DETAIL&id=A481203&location=MONT',\n",
              "  None),\n",
              " (10,\n",
              "  'OTHER',\n",
              "  'SNOW',\n",
              "  'OWNER SUR',\n",
              "  '2024-02-01',\n",
              "  '11 MONTHS',\n",
              "  'MED',\n",
              "  'WHITE / BLACK',\n",
              "  'DWARF HOTOT',\n",
              "  'S',\n",
              "  'http://www.petharbor.com/get_image.asp?res=DETAIL&id=A515462&location=MONT',\n",
              "  None),\n",
              " (11,\n",
              "  'OTHER',\n",
              "  'MANUELA',\n",
              "  'OWNER SUR',\n",
              "  '2024-02-01',\n",
              "  '11 MONTHS',\n",
              "  'MED',\n",
              "  'WHITE / BROWN',\n",
              "  'DUTCH',\n",
              "  'S',\n",
              "  'http://www.petharbor.com/get_image.asp?res=DETAIL&id=A515461&location=MONT',\n",
              "  None),\n",
              " (12,\n",
              "  'DOG',\n",
              "  'ACE',\n",
              "  'FOSTER',\n",
              "  '2024-02-11',\n",
              "  '1 YEAR 2 MONTHS',\n",
              "  'LARGE',\n",
              "  'WHITE',\n",
              "  'AM PIT BULL TER',\n",
              "  'N',\n",
              "  'http://www.petharbor.com/get_image.asp?res=DETAIL&id=A514726&location=MONT',\n",
              "  None),\n",
              " (13,\n",
              "  'DOG',\n",
              "  'RIHANNA',\n",
              "  'RETURN',\n",
              "  '2024-02-22',\n",
              "  '2 YEARS',\n",
              "  'MED',\n",
              "  'BLACK / WHITE',\n",
              "  'AM PIT BULL TER / MIX',\n",
              "  'S',\n",
              "  'http://www.petharbor.com/get_image.asp?res=DETAIL&id=A501305&location=MONT',\n",
              "  None),\n",
              " (14,\n",
              "  'OTHER',\n",
              "  '* BRUCE',\n",
              "  'BOARDING',\n",
              "  '2024-02-22',\n",
              "  'NO AGE',\n",
              "  'SMALL',\n",
              "  'ORANGE',\n",
              "  'COLD WATER',\n",
              "  'U',\n",
              "  'http://www.petharbor.com/get_image.asp?res=DETAIL&id=A516162&location=MONT',\n",
              "  None),\n",
              " (15,\n",
              "  'OTHER',\n",
              "  '* PEACH',\n",
              "  'BOARDING',\n",
              "  '2024-02-22',\n",
              "  'NO AGE',\n",
              "  'SMALL',\n",
              "  'ORANGE',\n",
              "  'COLD WATER',\n",
              "  'U',\n",
              "  'http://www.petharbor.com/get_image.asp?res=DETAIL&id=A516170&location=MONT',\n",
              "  None),\n",
              " (16,\n",
              "  'OTHER',\n",
              "  '* MR. RAY',\n",
              "  'BOARDING',\n",
              "  '2024-02-22',\n",
              "  'NO AGE',\n",
              "  'SMALL',\n",
              "  'ORANGE',\n",
              "  'COLD WATER',\n",
              "  'U',\n",
              "  'http://www.petharbor.com/get_image.asp?res=DETAIL&id=A516166&location=MONT',\n",
              "  None),\n",
              " (17,\n",
              "  'OTHER',\n",
              "  '* BUBBLES',\n",
              "  'BOARDING',\n",
              "  '2024-02-22',\n",
              "  'NO AGE',\n",
              "  'SMALL',\n",
              "  'ORANGE',\n",
              "  'COLD WATER',\n",
              "  'U',\n",
              "  'http://www.petharbor.com/get_image.asp?res=DETAIL&id=A516168&location=MONT',\n",
              "  None),\n",
              " (18,\n",
              "  'OTHER',\n",
              "  '* CORAL',\n",
              "  'BOARDING',\n",
              "  '2024-02-22',\n",
              "  'NO AGE',\n",
              "  'SMALL',\n",
              "  'ORANGE',\n",
              "  'COLD WATER',\n",
              "  'U',\n",
              "  'http://www.petharbor.com/get_image.asp?res=DETAIL&id=A516165&location=MONT',\n",
              "  None),\n",
              " (19,\n",
              "  'OTHER',\n",
              "  '* NEMO',\n",
              "  'BOARDING',\n",
              "  '2024-02-22',\n",
              "  'NO AGE',\n",
              "  'SMALL',\n",
              "  'ORANGE',\n",
              "  'COLD WATER',\n",
              "  'U',\n",
              "  'http://www.petharbor.com/get_image.asp?res=DETAIL&id=A516169&location=MONT',\n",
              "  None),\n",
              " (20,\n",
              "  'OTHER',\n",
              "  '* CRUSH',\n",
              "  'BOARDING',\n",
              "  '2024-02-22',\n",
              "  'NO AGE',\n",
              "  'SMALL',\n",
              "  'ORANGE',\n",
              "  'COLD WATER',\n",
              "  'U',\n",
              "  'http://www.petharbor.com/get_image.asp?res=DETAIL&id=A516164&location=MONT',\n",
              "  None),\n",
              " (21,\n",
              "  'OTHER',\n",
              "  '*22 MOLLIE',\n",
              "  'OWNER SUR',\n",
              "  '2024-03-26',\n",
              "  'NO AGE',\n",
              "  'MED',\n",
              "  'BLACK',\n",
              "  'TROPICAL',\n",
              "  'U',\n",
              "  'http://www.petharbor.com/get_image.asp?res=DETAIL&id=A517357&location=MONT',\n",
              "  None),\n",
              " (22,\n",
              "  'OTHER',\n",
              "  '*DARLA',\n",
              "  'BOARDING',\n",
              "  '2024-02-22',\n",
              "  'NO AGE',\n",
              "  'SMALL',\n",
              "  'ORANGE',\n",
              "  'COLD WATER',\n",
              "  'U',\n",
              "  'http://www.petharbor.com/get_image.asp?res=DETAIL&id=A516160&location=MONT',\n",
              "  None),\n",
              " (23,\n",
              "  'OTHER',\n",
              "  '* MARLIN',\n",
              "  'BOARDING',\n",
              "  '2024-02-22',\n",
              "  'NO AGE',\n",
              "  'SMALL',\n",
              "  'ORANGE',\n",
              "  'COLD WATER',\n",
              "  'U',\n",
              "  'http://www.petharbor.com/get_image.asp?res=DETAIL&id=A516161&location=MONT',\n",
              "  None),\n",
              " (24,\n",
              "  'OTHER',\n",
              "  '* GILL',\n",
              "  'BOARDING',\n",
              "  '2024-02-22',\n",
              "  'NO AGE',\n",
              "  'SMALL',\n",
              "  'ORANGE',\n",
              "  'COLD WATER',\n",
              "  'U',\n",
              "  'http://www.petharbor.com/get_image.asp?res=DETAIL&id=A516163&location=MONT',\n",
              "  None),\n",
              " (25,\n",
              "  'OTHER',\n",
              "  '* SQUIRT',\n",
              "  'BOARDING',\n",
              "  '2024-02-22',\n",
              "  'NO AGE',\n",
              "  'SMALL',\n",
              "  'ORANGE',\n",
              "  'COLD WATER',\n",
              "  'U',\n",
              "  'http://www.petharbor.com/get_image.asp?res=DETAIL&id=A516167&location=MONT',\n",
              "  None),\n",
              " (26,\n",
              "  'OTHER',\n",
              "  '*FOZZIE',\n",
              "  'OWNER SUR',\n",
              "  '2024-02-28',\n",
              "  '1 YEAR 10 MONTHS',\n",
              "  'MED',\n",
              "  'TRI/BROWN',\n",
              "  'GUINEA PIG',\n",
              "  'F',\n",
              "  'http://www.petharbor.com/get_image.asp?res=DETAIL&id=A516372&location=MONT',\n",
              "  None),\n",
              " (27,\n",
              "  'OTHER',\n",
              "  '*NIGEL',\n",
              "  'BOARDING',\n",
              "  '2024-02-22',\n",
              "  'NO AGE',\n",
              "  'SMALL',\n",
              "  'SILVER',\n",
              "  'COLD WATER',\n",
              "  'U',\n",
              "  'http://www.petharbor.com/get_image.asp?res=DETAIL&id=A516172&location=MONT',\n",
              "  None),\n",
              " (28,\n",
              "  'OTHER',\n",
              "  '* DORY',\n",
              "  'BOARDING',\n",
              "  '2024-02-22',\n",
              "  'NO AGE',\n",
              "  'SMALL',\n",
              "  'SILVER',\n",
              "  'COLD WATER',\n",
              "  'U',\n",
              "  'http://www.petharbor.com/get_image.asp?res=DETAIL&id=A516171&location=MONT',\n",
              "  None),\n",
              " (29,\n",
              "  'OTHER',\n",
              "  '* PEARL',\n",
              "  'BOARDING',\n",
              "  '2024-02-22',\n",
              "  'NO AGE',\n",
              "  'SMALL',\n",
              "  'WHITE / ORANGE',\n",
              "  'COLD WATER',\n",
              "  'U',\n",
              "  'http://www.petharbor.com/get_image.asp?res=DETAIL&id=A516174&location=MONT',\n",
              "  None),\n",
              " (30,\n",
              "  'OTHER',\n",
              "  '* DEB',\n",
              "  'BOARDING',\n",
              "  '2024-02-22',\n",
              "  'NO AGE',\n",
              "  'SMALL',\n",
              "  'WHITE / ORANGE',\n",
              "  'COLD WATER',\n",
              "  'U',\n",
              "  'http://www.petharbor.com/get_image.asp?res=DETAIL&id=A516173&location=MONT',\n",
              "  None),\n",
              " (31,\n",
              "  'OTHER',\n",
              "  '*CAMILLA',\n",
              "  'OWNER SUR',\n",
              "  '2024-02-28',\n",
              "  '1 YEAR 10 MONTHS',\n",
              "  'MED',\n",
              "  'TRICOLOR',\n",
              "  'GUINEA PIG',\n",
              "  'F',\n",
              "  'http://www.petharbor.com/get_image.asp?res=DETAIL&id=A516374&location=MONT',\n",
              "  None),\n",
              " (32,\n",
              "  'OTHER',\n",
              "  '*RIZZO',\n",
              "  'OWNER SUR',\n",
              "  '2024-02-28',\n",
              "  '1 YEAR 10 MONTHS',\n",
              "  'MED',\n",
              "  'TRICOLOR',\n",
              "  'GUINEA PIG',\n",
              "  'F',\n",
              "  'http://www.petharbor.com/get_image.asp?res=DETAIL&id=A516373&location=MONT',\n",
              "  None),\n",
              " (33,\n",
              "  'BIRD',\n",
              "  'TJ',\n",
              "  'OWNER SUR',\n",
              "  '2024-03-10',\n",
              "  '2 YEARS',\n",
              "  'SMALL',\n",
              "  'BLACK',\n",
              "  'BANTAM',\n",
              "  'M',\n",
              "  'http://www.petharbor.com/get_image.asp?res=DETAIL&id=A516756&location=MONT',\n",
              "  None),\n",
              " (34,\n",
              "  'BIRD',\n",
              "  'SPICY',\n",
              "  'OWNER SUR',\n",
              "  '2024-03-10',\n",
              "  '2 YEARS',\n",
              "  'SMALL',\n",
              "  'RED',\n",
              "  'BANTAM',\n",
              "  'M',\n",
              "  'http://www.petharbor.com/get_image.asp?res=DETAIL&id=A516758&location=MONT',\n",
              "  None),\n",
              " (35,\n",
              "  'BIRD',\n",
              "  'NOODLE',\n",
              "  'OWNER SUR',\n",
              "  '2024-03-10',\n",
              "  '2 YEARS',\n",
              "  'SMALL',\n",
              "  'BLACK / BROWN',\n",
              "  'BANTAM',\n",
              "  'M',\n",
              "  'http://www.petharbor.com/get_image.asp?res=DETAIL&id=A516757&location=MONT',\n",
              "  None),\n",
              " (36,\n",
              "  'DOG',\n",
              "  'HAZEL',\n",
              "  'OWNER SUR',\n",
              "  '2024-03-08',\n",
              "  '1 YEAR 8 MONTHS',\n",
              "  'SMALL',\n",
              "  'BROWN / WHITE',\n",
              "  'AM PIT BULL TER',\n",
              "  'S',\n",
              "  'http://www.petharbor.com/get_image.asp?res=DETAIL&id=A511893&location=MONT',\n",
              "  None),\n",
              " (37,\n",
              "  'OTHER',\n",
              "  '*MISS PIGGY',\n",
              "  'FOSTER',\n",
              "  '2024-03-14',\n",
              "  '1 YEAR 10 MONTHS',\n",
              "  'MED',\n",
              "  'BLACK / WHITE',\n",
              "  'GUINEA PIG',\n",
              "  'F',\n",
              "  'http://www.petharbor.com/get_image.asp?res=DETAIL&id=A516371&location=MONT',\n",
              "  None),\n",
              " (38,\n",
              "  'DOG',\n",
              "  'REMI',\n",
              "  'RETURN',\n",
              "  '2024-03-14',\n",
              "  '1 YEAR 1 MONTH',\n",
              "  'MED',\n",
              "  'BLACK / WHITE',\n",
              "  'LABRADOR RETR',\n",
              "  'S',\n",
              "  'http://www.petharbor.com/get_image.asp?res=DETAIL&id=A515847&location=MONT',\n",
              "  None),\n",
              " (39,\n",
              "  'DOG',\n",
              "  'LUIGI',\n",
              "  'OWNER SUR',\n",
              "  '2024-02-29',\n",
              "  '1 YEAR 7 MONTHS',\n",
              "  'LARGE',\n",
              "  'BLACK / WHITE',\n",
              "  'ALASK MALAMUTE',\n",
              "  'N',\n",
              "  'http://www.petharbor.com/get_image.asp?res=DETAIL&id=A508984&location=MONT',\n",
              "  None),\n",
              " (40,\n",
              "  'BIRD',\n",
              "  'CORY',\n",
              "  'OWNER SUR',\n",
              "  '2024-03-16',\n",
              "  '6 MONTHS',\n",
              "  'SMALL',\n",
              "  'RED',\n",
              "  'BANTAM',\n",
              "  'M',\n",
              "  'http://www.petharbor.com/get_image.asp?res=DETAIL&id=A517012&location=MONT',\n",
              "  None),\n",
              " (41,\n",
              "  'BIRD',\n",
              "  'JUSTIN B',\n",
              "  'OWNER SUR',\n",
              "  '2024-03-16',\n",
              "  '6 MONTHS',\n",
              "  'MED',\n",
              "  'BROWN',\n",
              "  'BANTAM',\n",
              "  'M',\n",
              "  'http://www.petharbor.com/get_image.asp?res=DETAIL&id=A517013&location=MONT',\n",
              "  None),\n",
              " (42,\n",
              "  'DOG',\n",
              "  'SMOKE',\n",
              "  'OWNER SUR',\n",
              "  '2024-03-18',\n",
              "  '4 YEARS',\n",
              "  'MED',\n",
              "  'BRINDLE',\n",
              "  'BOXER / MIX',\n",
              "  'N',\n",
              "  'http://www.petharbor.com/get_image.asp?res=DETAIL&id=A507654&location=MONT',\n",
              "  None),\n",
              " (43,\n",
              "  'DOG',\n",
              "  '*CARDI B',\n",
              "  'RETURN',\n",
              "  '2024-03-13',\n",
              "  '3 YEARS',\n",
              "  'LARGE',\n",
              "  'BLACK / WHITE',\n",
              "  'AM PIT BULL TER',\n",
              "  'S',\n",
              "  'http://www.petharbor.com/get_image.asp?res=DETAIL&id=A512779&location=MONT',\n",
              "  None),\n",
              " (44,\n",
              "  'BIRD',\n",
              "  'FUNNY BOY',\n",
              "  'OWNER SUR',\n",
              "  '2024-03-23',\n",
              "  'NO AGE',\n",
              "  'SMALL',\n",
              "  'WHITE / TAN',\n",
              "  'TURKEY',\n",
              "  'U',\n",
              "  'http://www.petharbor.com/get_image.asp?res=DETAIL&id=A517238&location=MONT',\n",
              "  None),\n",
              " (45,\n",
              "  'BIRD',\n",
              "  'TRICKEY BOY',\n",
              "  'OWNER SUR',\n",
              "  '2024-03-23',\n",
              "  'NO AGE',\n",
              "  'SMALL',\n",
              "  'WHITE / TAN',\n",
              "  'TURKEY',\n",
              "  'U',\n",
              "  'http://www.petharbor.com/get_image.asp?res=DETAIL&id=A517237&location=MONT',\n",
              "  None),\n",
              " (46,\n",
              "  'DOG',\n",
              "  '*SNOOPY',\n",
              "  'FOSTER',\n",
              "  '2024-02-02',\n",
              "  '1 YEAR 9 MONTHS',\n",
              "  'MED',\n",
              "  'BLACK / WHITE',\n",
              "  'AMERICAN STAFF',\n",
              "  'N',\n",
              "  'http://www.petharbor.com/get_image.asp?res=DETAIL&id=A506134&location=MONT',\n",
              "  None),\n",
              " (47,\n",
              "  'DOG',\n",
              "  'BLOCK',\n",
              "  'FOSTER',\n",
              "  '2024-03-25',\n",
              "  '8 MONTHS',\n",
              "  'MED',\n",
              "  'GRAY / WHITE',\n",
              "  'AM PIT BULL TER',\n",
              "  'N',\n",
              "  'http://www.petharbor.com/get_image.asp?res=DETAIL&id=A514368&location=MONT',\n",
              "  None),\n",
              " (48,\n",
              "  'DOG',\n",
              "  'MR MAGOO',\n",
              "  'OWNER SUR',\n",
              "  '2024-02-22',\n",
              "  '2 YEARS',\n",
              "  'LARGE',\n",
              "  'GOLD',\n",
              "  'LABRADOR RETR',\n",
              "  'N',\n",
              "  'http://www.petharbor.com/get_image.asp?res=DETAIL&id=A493450&location=MONT',\n",
              "  None),\n",
              " (49,\n",
              "  'DOG',\n",
              "  'ROCKY',\n",
              "  'OWNER SUR',\n",
              "  '2024-03-25',\n",
              "  '11 MONTHS',\n",
              "  'MED',\n",
              "  'WHITE / GRAY',\n",
              "  'AM PIT BULL TER',\n",
              "  'N',\n",
              "  'http://www.petharbor.com/get_image.asp?res=DETAIL&id=A515495&location=MONT',\n",
              "  None),\n",
              " (50,\n",
              "  'DOG',\n",
              "  '*GIGANTE',\n",
              "  'STRAY',\n",
              "  '2024-02-13',\n",
              "  '2 YEARS',\n",
              "  'LARGE',\n",
              "  'BRINDLE / WHITE',\n",
              "  'MASTIFF',\n",
              "  'N',\n",
              "  'http://www.petharbor.com/get_image.asp?res=DETAIL&id=A515885&location=MONT',\n",
              "  '19500 FREDERICK RD, GERMANTOWN MD 20876'),\n",
              " (51,\n",
              "  'OTHER',\n",
              "  '*JULIUS',\n",
              "  'STRAY',\n",
              "  '2024-02-05',\n",
              "  '1 YEAR 1 MONTH',\n",
              "  'SMALL',\n",
              "  'WHITE',\n",
              "  'FLORIDA WHITE',\n",
              "  'N',\n",
              "  'http://www.petharbor.com/get_image.asp?res=DETAIL&id=A515574&location=MONT',\n",
              "  '1600 DREXEL ST TAKOMA PARK MD, 20912'),\n",
              " (52,\n",
              "  'DOG',\n",
              "  '*CHIQUITO',\n",
              "  'STRAY',\n",
              "  '2024-03-06',\n",
              "  '2 YEARS',\n",
              "  'LARGE',\n",
              "  'BLACK / TAN',\n",
              "  'GERM SHEPHERD / MIX',\n",
              "  'N',\n",
              "  'http://www.petharbor.com/get_image.asp?res=DETAIL&id=A516623&location=MONT',\n",
              "  '22400 FREDERICK RD, CLARKSBURG MD 20871'),\n",
              " (53,\n",
              "  'DOG',\n",
              "  '*SPOONS',\n",
              "  'STRAY',\n",
              "  '2024-02-24',\n",
              "  '2 YEARS',\n",
              "  'LARGE',\n",
              "  'BROWN / BRINDLE',\n",
              "  'AM PIT BULL TER / MIX',\n",
              "  'N',\n",
              "  'http://www.petharbor.com/get_image.asp?res=DETAIL&id=A516247&location=MONT',\n",
              "  '13300 DARNESTOWN RD, GAITHERSBURG MD 20878'),\n",
              " (54,\n",
              "  'DOG',\n",
              "  '*KIMMIE',\n",
              "  'STRAY',\n",
              "  '2024-02-07',\n",
              "  '3 YEARS',\n",
              "  'MED',\n",
              "  'BROWN / WHITE',\n",
              "  'AM PIT BULL TER',\n",
              "  'S',\n",
              "  'http://www.petharbor.com/get_image.asp?res=DETAIL&id=A515664&location=MONT',\n",
              "  '2100 HARLEQUIN TER, SILVER SPRING MD 20904'),\n",
              " (55,\n",
              "  'DOG',\n",
              "  '*YODI',\n",
              "  'STRAY',\n",
              "  '2024-03-13',\n",
              "  '2 YEARS',\n",
              "  'MED',\n",
              "  'TAN / WHITE',\n",
              "  'AM PIT BULL TER',\n",
              "  'N',\n",
              "  'http://www.petharbor.com/get_image.asp?res=DETAIL&id=A516877&location=MONT',\n",
              "  '2700 SWEET CLOVER CT, SILVER SPRING MD 20904'),\n",
              " (56,\n",
              "  'CAT',\n",
              "  '*MANUEL',\n",
              "  'STRAY',\n",
              "  '2024-03-10',\n",
              "  '2 YEARS',\n",
              "  'MED',\n",
              "  'GRAY / WHITE',\n",
              "  'DOMESTIC SH',\n",
              "  'N',\n",
              "  'http://www.petharbor.com/get_image.asp?res=DETAIL&id=A516742&location=MONT',\n",
              "  '9000 MANCHESTER RD, SILVER SPRING MD 20901'),\n",
              " (57,\n",
              "  'DOG',\n",
              "  '*BART',\n",
              "  'STRAY',\n",
              "  '2024-02-24',\n",
              "  '6 YEARS',\n",
              "  'MED',\n",
              "  'BROWN',\n",
              "  'LABRADOR RETR / MIX',\n",
              "  'N',\n",
              "  'http://www.petharbor.com/get_image.asp?res=DETAIL&id=A516230&location=MONT',\n",
              "  '10500 DEMOCRACY BLVD, POTOMAC MD 20854'),\n",
              " (58,\n",
              "  'CAT',\n",
              "  'RICKETTS',\n",
              "  'STRAY',\n",
              "  '2023-11-23',\n",
              "  '5 YEARS',\n",
              "  'SMALL',\n",
              "  'BRN TABBY / ORANGE',\n",
              "  'DOMESTIC SH',\n",
              "  'S',\n",
              "  'http://www.petharbor.com/get_image.asp?res=DETAIL&id=A512992&location=MONT',\n",
              "  '600 BLOSSOM DR, ROCKVILLE MD 20850')]"
            ]
          },
          "execution_count": 45,
          "metadata": {},
          "output_type": "execute_result"
        }
      ],
      "source": [
        "c.execute('select * FROM animal;')\n",
        "c.fetchall()"
      ]
    },
    {
      "cell_type": "markdown",
      "metadata": {
        "id": "DbCC7iJtilMR"
      },
      "source": []
    },
    {
      "cell_type": "markdown",
      "metadata": {
        "id": "SHz8eZ45QjvJ"
      },
      "source": [
        "##Attribute Inserts"
      ]
    },
    {
      "cell_type": "code",
      "execution_count": 46,
      "metadata": {
        "colab": {
          "base_uri": "https://localhost:8080/",
          "height": 176
        },
        "id": "4IZF4sZRkY8A",
        "outputId": "171b54b1-6a33-4762-9184-5d1dd542ecdd"
      },
      "outputs": [
        {
          "data": {
            "text/plain": [
              "<sqlite3.Cursor at 0x15af846c0>"
            ]
          },
          "execution_count": 46,
          "metadata": {},
          "output_type": "execute_result"
        }
      ],
      "source": [
        "pet_size_insert = '''INSERT INTO pet_size(pet_size_id, pet_size_desc) VALUES\n",
        "('S', 'SMALL'),\n",
        "('M', 'MED'),\n",
        "('L', 'LARGE')'''\n",
        "c.execute(pet_size_insert)\n"
      ]
    },
    {
      "cell_type": "code",
      "execution_count": 47,
      "metadata": {
        "colab": {
          "base_uri": "https://localhost:8080/"
        },
        "id": "cLT58Na3l3b8",
        "outputId": "3a95a131-cda8-4eaa-efde-2ccc9ee88831"
      },
      "outputs": [
        {
          "data": {
            "text/plain": [
              "<sqlite3.Cursor at 0x15af846c0>"
            ]
          },
          "execution_count": 47,
          "metadata": {},
          "output_type": "execute_result"
        }
      ],
      "source": [
        "animal_update = '''UPDATE animal\n",
        "SET pet_size = CASE\n",
        "    WHEN pet_size = 'SMALL' THEN 'S'\n",
        "    WHEN pet_size = 'MED' THEN 'M'\n",
        "    WHEN pet_size = 'LARGE' THEN 'L'\n",
        "    ELSE pet_size\n",
        "END;'''\n",
        "c.execute(animal_update)"
      ]
    },
    {
      "cell_type": "code",
      "execution_count": 48,
      "metadata": {
        "colab": {
          "base_uri": "https://localhost:8080/"
        },
        "id": "q2xQ8MBUmDYT",
        "outputId": "b1cc9ac7-fdaa-4f7b-95b0-7567210776e8"
      },
      "outputs": [
        {
          "data": {
            "text/plain": [
              "<sqlite3.Cursor at 0x15af846c0>"
            ]
          },
          "execution_count": 48,
          "metadata": {},
          "output_type": "execute_result"
        }
      ],
      "source": [
        "intake_type_insert = '''\n",
        "INSERT INTO intake (intake_type_id, intake_type_desc) VALUES\n",
        "      ('OWNER SUR', 'Owner Surrender'),\n",
        "      ('EUTH REQ', 'Euthanasia Request'),\n",
        "      ('STRAY' ,'Stray'),\n",
        "      ('FOSTER', 'Foster'),\n",
        "      ('BOARDING' ,'Boarding'),\n",
        "      ('RETURN' ,'Return');'''\n",
        "c.execute(intake_type_insert)"
      ]
    },
    {
      "cell_type": "code",
      "execution_count": 49,
      "metadata": {},
      "outputs": [
        {
          "data": {
            "text/plain": [
              "<sqlite3.Cursor at 0x15af846c0>"
            ]
          },
          "execution_count": 49,
          "metadata": {},
          "output_type": "execute_result"
        }
      ],
      "source": [
        "c.execute('INSERT INTO adoption_status (animal_id, adoption_status) SELECT animal_id, 0 FROM animal;')"
      ]
    },
    {
      "cell_type": "code",
      "execution_count": 50,
      "metadata": {
        "colab": {
          "base_uri": "https://localhost:8080/"
        },
        "id": "z1MUcMdphBXw",
        "outputId": "c5784f1d-c0e3-4c89-e8cb-5b98b1be45f7"
      },
      "outputs": [
        {
          "data": {
            "text/plain": [
              "<sqlite3.Cursor at 0x15af846c0>"
            ]
          },
          "execution_count": 50,
          "metadata": {},
          "output_type": "execute_result"
        }
      ],
      "source": [
        "sex_insert = '''INSERT INTO sex_type (sex_id, sex_desc) VALUES\n",
        "('M', 'Male'),\n",
        "('F', 'Female'),\n",
        "('U', 'Unidentified'),\n",
        "('N', 'Neutral'),\n",
        "('S', 'Spayed');'''\n",
        "c.execute(sex_insert)"
      ]
    },
    {
      "cell_type": "code",
      "execution_count": 51,
      "metadata": {},
      "outputs": [
        {
          "data": {
            "text/plain": [
              "<sqlite3.Cursor at 0x15af846c0>"
            ]
          },
          "execution_count": 51,
          "metadata": {},
          "output_type": "execute_result"
        }
      ],
      "source": [
        "c.execute(\"ALTER TABLE animal ADD COLUMN image BLOB\")"
      ]
    },
    {
      "cell_type": "code",
      "execution_count": 52,
      "metadata": {
        "colab": {
          "base_uri": "https://localhost:8080/"
        },
        "id": "m9V9chYgma47",
        "outputId": "06565725-dd51-44bd-d8a6-10d858c2b8ac"
      },
      "outputs": [
        {
          "name": "stdout",
          "output_type": "stream",
          "text": [
            "(1, 'OTHER', 'OSCAR', 'OWNER SUR', '2024-01-28', '6 YEARS', 'S', 'BROWN', 'TURTLE', 'M', 'http://www.petharbor.com/get_image.asp?res=DETAIL&id=A451630&location=MONT', None, None)\n",
            "(2, 'OTHER', 'FRANKLIN', 'OWNER SUR', '2024-01-28', '10 YEARS', 'M', 'RED', 'TURTLE / REDEARED SLIDER', 'M', 'http://www.petharbor.com/get_image.asp?res=DETAIL&id=A439979&location=MONT', None, None)\n",
            "(3, 'DOG', '*RITA', 'OWNER SUR', '2024-02-05', '2 YEARS', 'M', 'BRINDLE', 'AM PIT BULL TER', 'S', 'http://www.petharbor.com/get_image.asp?res=DETAIL&id=A507522&location=MONT', None, None)\n",
            "(4, 'OTHER', 'YERTLE', 'OWNER SUR', '2024-01-28', '7 YEARS', 'S', 'GREEN', 'TURTLE', 'F', 'http://www.petharbor.com/get_image.asp?res=DETAIL&id=A444157&location=MONT', None, None)\n",
            "(5, 'DOG', 'NOVA', 'EUTH REQ', '2023-12-08', '2 YEARS', 'M', 'TAN / WHITE', 'AM PIT BULL TER / MIX', 'S', 'http://www.petharbor.com/get_image.asp?res=DETAIL&id=A513554&location=MONT', None, None)\n",
            "(6, 'OTHER', 'SHELLDON', 'OWNER SUR', '2024-01-28', '10 YEARS', 'S', 'BROWN', 'TURTLE / REDEARED SLIDER', 'M', 'http://www.petharbor.com/get_image.asp?res=DETAIL&id=A439968&location=MONT', None, None)\n",
            "(7, 'OTHER', 'VIVI', 'OWNER SUR', '2024-01-13', '5 YEARS', 'S', 'BROWN', 'TURTLE', 'F', 'http://www.petharbor.com/get_image.asp?res=DETAIL&id=A514757&location=MONT', None, None)\n",
            "(8, 'DOG', 'QUEEN', 'FOSTER', '2024-03-24', '5 YEARS', 'M', 'TAN / WHITE', 'PHARAOH HOUND / MIX', 'S', 'http://www.petharbor.com/get_image.asp?res=DETAIL&id=A516426&location=MONT', None, None)\n",
            "(9, 'OTHER', '*SENORITA OREO', 'OWNER SUR', '2024-02-10', '3 YEARS', 'S', 'WHITE / BLACK', 'RABBIT SH', 'S', 'http://www.petharbor.com/get_image.asp?res=DETAIL&id=A481203&location=MONT', None, None)\n",
            "(10, 'OTHER', 'SNOW', 'OWNER SUR', '2024-02-01', '11 MONTHS', 'M', 'WHITE / BLACK', 'DWARF HOTOT', 'S', 'http://www.petharbor.com/get_image.asp?res=DETAIL&id=A515462&location=MONT', None, None)\n",
            "(11, 'OTHER', 'MANUELA', 'OWNER SUR', '2024-02-01', '11 MONTHS', 'M', 'WHITE / BROWN', 'DUTCH', 'S', 'http://www.petharbor.com/get_image.asp?res=DETAIL&id=A515461&location=MONT', None, None)\n",
            "(12, 'DOG', 'ACE', 'FOSTER', '2024-02-11', '1 YEAR 2 MONTHS', 'L', 'WHITE', 'AM PIT BULL TER', 'N', 'http://www.petharbor.com/get_image.asp?res=DETAIL&id=A514726&location=MONT', None, None)\n",
            "(13, 'DOG', 'RIHANNA', 'RETURN', '2024-02-22', '2 YEARS', 'M', 'BLACK / WHITE', 'AM PIT BULL TER / MIX', 'S', 'http://www.petharbor.com/get_image.asp?res=DETAIL&id=A501305&location=MONT', None, None)\n",
            "(14, 'OTHER', '* BRUCE', 'BOARDING', '2024-02-22', 'NO AGE', 'S', 'ORANGE', 'COLD WATER', 'U', 'http://www.petharbor.com/get_image.asp?res=DETAIL&id=A516162&location=MONT', None, None)\n",
            "(15, 'OTHER', '* PEACH', 'BOARDING', '2024-02-22', 'NO AGE', 'S', 'ORANGE', 'COLD WATER', 'U', 'http://www.petharbor.com/get_image.asp?res=DETAIL&id=A516170&location=MONT', None, None)\n",
            "(16, 'OTHER', '* MR. RAY', 'BOARDING', '2024-02-22', 'NO AGE', 'S', 'ORANGE', 'COLD WATER', 'U', 'http://www.petharbor.com/get_image.asp?res=DETAIL&id=A516166&location=MONT', None, None)\n",
            "(17, 'OTHER', '* BUBBLES', 'BOARDING', '2024-02-22', 'NO AGE', 'S', 'ORANGE', 'COLD WATER', 'U', 'http://www.petharbor.com/get_image.asp?res=DETAIL&id=A516168&location=MONT', None, None)\n",
            "(18, 'OTHER', '* CORAL', 'BOARDING', '2024-02-22', 'NO AGE', 'S', 'ORANGE', 'COLD WATER', 'U', 'http://www.petharbor.com/get_image.asp?res=DETAIL&id=A516165&location=MONT', None, None)\n",
            "(19, 'OTHER', '* NEMO', 'BOARDING', '2024-02-22', 'NO AGE', 'S', 'ORANGE', 'COLD WATER', 'U', 'http://www.petharbor.com/get_image.asp?res=DETAIL&id=A516169&location=MONT', None, None)\n",
            "(20, 'OTHER', '* CRUSH', 'BOARDING', '2024-02-22', 'NO AGE', 'S', 'ORANGE', 'COLD WATER', 'U', 'http://www.petharbor.com/get_image.asp?res=DETAIL&id=A516164&location=MONT', None, None)\n",
            "(21, 'OTHER', '*22 MOLLIE', 'OWNER SUR', '2024-03-26', 'NO AGE', 'M', 'BLACK', 'TROPICAL', 'U', 'http://www.petharbor.com/get_image.asp?res=DETAIL&id=A517357&location=MONT', None, None)\n",
            "(22, 'OTHER', '*DARLA', 'BOARDING', '2024-02-22', 'NO AGE', 'S', 'ORANGE', 'COLD WATER', 'U', 'http://www.petharbor.com/get_image.asp?res=DETAIL&id=A516160&location=MONT', None, None)\n",
            "(23, 'OTHER', '* MARLIN', 'BOARDING', '2024-02-22', 'NO AGE', 'S', 'ORANGE', 'COLD WATER', 'U', 'http://www.petharbor.com/get_image.asp?res=DETAIL&id=A516161&location=MONT', None, None)\n",
            "(24, 'OTHER', '* GILL', 'BOARDING', '2024-02-22', 'NO AGE', 'S', 'ORANGE', 'COLD WATER', 'U', 'http://www.petharbor.com/get_image.asp?res=DETAIL&id=A516163&location=MONT', None, None)\n",
            "(25, 'OTHER', '* SQUIRT', 'BOARDING', '2024-02-22', 'NO AGE', 'S', 'ORANGE', 'COLD WATER', 'U', 'http://www.petharbor.com/get_image.asp?res=DETAIL&id=A516167&location=MONT', None, None)\n",
            "(26, 'OTHER', '*FOZZIE', 'OWNER SUR', '2024-02-28', '1 YEAR 10 MONTHS', 'M', 'TRI/BROWN', 'GUINEA PIG', 'F', 'http://www.petharbor.com/get_image.asp?res=DETAIL&id=A516372&location=MONT', None, None)\n",
            "(27, 'OTHER', '*NIGEL', 'BOARDING', '2024-02-22', 'NO AGE', 'S', 'SILVER', 'COLD WATER', 'U', 'http://www.petharbor.com/get_image.asp?res=DETAIL&id=A516172&location=MONT', None, None)\n",
            "(28, 'OTHER', '* DORY', 'BOARDING', '2024-02-22', 'NO AGE', 'S', 'SILVER', 'COLD WATER', 'U', 'http://www.petharbor.com/get_image.asp?res=DETAIL&id=A516171&location=MONT', None, None)\n",
            "(29, 'OTHER', '* PEARL', 'BOARDING', '2024-02-22', 'NO AGE', 'S', 'WHITE / ORANGE', 'COLD WATER', 'U', 'http://www.petharbor.com/get_image.asp?res=DETAIL&id=A516174&location=MONT', None, None)\n",
            "(30, 'OTHER', '* DEB', 'BOARDING', '2024-02-22', 'NO AGE', 'S', 'WHITE / ORANGE', 'COLD WATER', 'U', 'http://www.petharbor.com/get_image.asp?res=DETAIL&id=A516173&location=MONT', None, None)\n",
            "(31, 'OTHER', '*CAMILLA', 'OWNER SUR', '2024-02-28', '1 YEAR 10 MONTHS', 'M', 'TRICOLOR', 'GUINEA PIG', 'F', 'http://www.petharbor.com/get_image.asp?res=DETAIL&id=A516374&location=MONT', None, None)\n",
            "(32, 'OTHER', '*RIZZO', 'OWNER SUR', '2024-02-28', '1 YEAR 10 MONTHS', 'M', 'TRICOLOR', 'GUINEA PIG', 'F', 'http://www.petharbor.com/get_image.asp?res=DETAIL&id=A516373&location=MONT', None, None)\n",
            "(33, 'BIRD', 'TJ', 'OWNER SUR', '2024-03-10', '2 YEARS', 'S', 'BLACK', 'BANTAM', 'M', 'http://www.petharbor.com/get_image.asp?res=DETAIL&id=A516756&location=MONT', None, None)\n",
            "(34, 'BIRD', 'SPICY', 'OWNER SUR', '2024-03-10', '2 YEARS', 'S', 'RED', 'BANTAM', 'M', 'http://www.petharbor.com/get_image.asp?res=DETAIL&id=A516758&location=MONT', None, None)\n",
            "(35, 'BIRD', 'NOODLE', 'OWNER SUR', '2024-03-10', '2 YEARS', 'S', 'BLACK / BROWN', 'BANTAM', 'M', 'http://www.petharbor.com/get_image.asp?res=DETAIL&id=A516757&location=MONT', None, None)\n",
            "(36, 'DOG', 'HAZEL', 'OWNER SUR', '2024-03-08', '1 YEAR 8 MONTHS', 'S', 'BROWN / WHITE', 'AM PIT BULL TER', 'S', 'http://www.petharbor.com/get_image.asp?res=DETAIL&id=A511893&location=MONT', None, None)\n",
            "(37, 'OTHER', '*MISS PIGGY', 'FOSTER', '2024-03-14', '1 YEAR 10 MONTHS', 'M', 'BLACK / WHITE', 'GUINEA PIG', 'F', 'http://www.petharbor.com/get_image.asp?res=DETAIL&id=A516371&location=MONT', None, None)\n",
            "(38, 'DOG', 'REMI', 'RETURN', '2024-03-14', '1 YEAR 1 MONTH', 'M', 'BLACK / WHITE', 'LABRADOR RETR', 'S', 'http://www.petharbor.com/get_image.asp?res=DETAIL&id=A515847&location=MONT', None, None)\n",
            "(39, 'DOG', 'LUIGI', 'OWNER SUR', '2024-02-29', '1 YEAR 7 MONTHS', 'L', 'BLACK / WHITE', 'ALASK MALAMUTE', 'N', 'http://www.petharbor.com/get_image.asp?res=DETAIL&id=A508984&location=MONT', None, None)\n",
            "(40, 'BIRD', 'CORY', 'OWNER SUR', '2024-03-16', '6 MONTHS', 'S', 'RED', 'BANTAM', 'M', 'http://www.petharbor.com/get_image.asp?res=DETAIL&id=A517012&location=MONT', None, None)\n",
            "(41, 'BIRD', 'JUSTIN B', 'OWNER SUR', '2024-03-16', '6 MONTHS', 'M', 'BROWN', 'BANTAM', 'M', 'http://www.petharbor.com/get_image.asp?res=DETAIL&id=A517013&location=MONT', None, None)\n",
            "(42, 'DOG', 'SMOKE', 'OWNER SUR', '2024-03-18', '4 YEARS', 'M', 'BRINDLE', 'BOXER / MIX', 'N', 'http://www.petharbor.com/get_image.asp?res=DETAIL&id=A507654&location=MONT', None, None)\n",
            "(43, 'DOG', '*CARDI B', 'RETURN', '2024-03-13', '3 YEARS', 'L', 'BLACK / WHITE', 'AM PIT BULL TER', 'S', 'http://www.petharbor.com/get_image.asp?res=DETAIL&id=A512779&location=MONT', None, None)\n",
            "(44, 'BIRD', 'FUNNY BOY', 'OWNER SUR', '2024-03-23', 'NO AGE', 'S', 'WHITE / TAN', 'TURKEY', 'U', 'http://www.petharbor.com/get_image.asp?res=DETAIL&id=A517238&location=MONT', None, None)\n",
            "(45, 'BIRD', 'TRICKEY BOY', 'OWNER SUR', '2024-03-23', 'NO AGE', 'S', 'WHITE / TAN', 'TURKEY', 'U', 'http://www.petharbor.com/get_image.asp?res=DETAIL&id=A517237&location=MONT', None, None)\n",
            "(46, 'DOG', '*SNOOPY', 'FOSTER', '2024-02-02', '1 YEAR 9 MONTHS', 'M', 'BLACK / WHITE', 'AMERICAN STAFF', 'N', 'http://www.petharbor.com/get_image.asp?res=DETAIL&id=A506134&location=MONT', None, None)\n",
            "(47, 'DOG', 'BLOCK', 'FOSTER', '2024-03-25', '8 MONTHS', 'M', 'GRAY / WHITE', 'AM PIT BULL TER', 'N', 'http://www.petharbor.com/get_image.asp?res=DETAIL&id=A514368&location=MONT', None, None)\n",
            "(48, 'DOG', 'MR MAGOO', 'OWNER SUR', '2024-02-22', '2 YEARS', 'L', 'GOLD', 'LABRADOR RETR', 'N', 'http://www.petharbor.com/get_image.asp?res=DETAIL&id=A493450&location=MONT', None, None)\n",
            "(49, 'DOG', 'ROCKY', 'OWNER SUR', '2024-03-25', '11 MONTHS', 'M', 'WHITE / GRAY', 'AM PIT BULL TER', 'N', 'http://www.petharbor.com/get_image.asp?res=DETAIL&id=A515495&location=MONT', None, None)\n",
            "(50, 'DOG', '*GIGANTE', 'STRAY', '2024-02-13', '2 YEARS', 'L', 'BRINDLE / WHITE', 'MASTIFF', 'N', 'http://www.petharbor.com/get_image.asp?res=DETAIL&id=A515885&location=MONT', '19500 FREDERICK RD, GERMANTOWN MD 20876', None)\n",
            "(51, 'OTHER', '*JULIUS', 'STRAY', '2024-02-05', '1 YEAR 1 MONTH', 'S', 'WHITE', 'FLORIDA WHITE', 'N', 'http://www.petharbor.com/get_image.asp?res=DETAIL&id=A515574&location=MONT', '1600 DREXEL ST TAKOMA PARK MD, 20912', None)\n",
            "(52, 'DOG', '*CHIQUITO', 'STRAY', '2024-03-06', '2 YEARS', 'L', 'BLACK / TAN', 'GERM SHEPHERD / MIX', 'N', 'http://www.petharbor.com/get_image.asp?res=DETAIL&id=A516623&location=MONT', '22400 FREDERICK RD, CLARKSBURG MD 20871', None)\n",
            "(53, 'DOG', '*SPOONS', 'STRAY', '2024-02-24', '2 YEARS', 'L', 'BROWN / BRINDLE', 'AM PIT BULL TER / MIX', 'N', 'http://www.petharbor.com/get_image.asp?res=DETAIL&id=A516247&location=MONT', '13300 DARNESTOWN RD, GAITHERSBURG MD 20878', None)\n",
            "(54, 'DOG', '*KIMMIE', 'STRAY', '2024-02-07', '3 YEARS', 'M', 'BROWN / WHITE', 'AM PIT BULL TER', 'S', 'http://www.petharbor.com/get_image.asp?res=DETAIL&id=A515664&location=MONT', '2100 HARLEQUIN TER, SILVER SPRING MD 20904', None)\n",
            "(55, 'DOG', '*YODI', 'STRAY', '2024-03-13', '2 YEARS', 'M', 'TAN / WHITE', 'AM PIT BULL TER', 'N', 'http://www.petharbor.com/get_image.asp?res=DETAIL&id=A516877&location=MONT', '2700 SWEET CLOVER CT, SILVER SPRING MD 20904', None)\n",
            "(56, 'CAT', '*MANUEL', 'STRAY', '2024-03-10', '2 YEARS', 'M', 'GRAY / WHITE', 'DOMESTIC SH', 'N', 'http://www.petharbor.com/get_image.asp?res=DETAIL&id=A516742&location=MONT', '9000 MANCHESTER RD, SILVER SPRING MD 20901', None)\n",
            "(57, 'DOG', '*BART', 'STRAY', '2024-02-24', '6 YEARS', 'M', 'BROWN', 'LABRADOR RETR / MIX', 'N', 'http://www.petharbor.com/get_image.asp?res=DETAIL&id=A516230&location=MONT', '10500 DEMOCRACY BLVD, POTOMAC MD 20854', None)\n",
            "(58, 'CAT', 'RICKETTS', 'STRAY', '2023-11-23', '5 YEARS', 'S', 'BRN TABBY / ORANGE', 'DOMESTIC SH', 'S', 'http://www.petharbor.com/get_image.asp?res=DETAIL&id=A512992&location=MONT', '600 BLOSSOM DR, ROCKVILLE MD 20850', None)\n"
          ]
        }
      ],
      "source": [
        "for i in c.execute('select * FROM animal;'):\n",
        "  print(i)"
      ]
    },
    {
      "cell_type": "code",
      "execution_count": 53,
      "metadata": {},
      "outputs": [
        {
          "name": "stdout",
          "output_type": "stream",
          "text": [
            "('Owner Surrender',)\n",
            "('Euthanasia Request',)\n",
            "('Stray',)\n",
            "('Foster',)\n",
            "('Boarding',)\n",
            "('Return',)\n"
          ]
        }
      ],
      "source": [
        "for i in c.execute('select intake_type_desc FROM intake;'):\n",
        "  print(i)\n",
        "conn.commit()\n",
        "conn.close()"
      ]
    },
    {
      "cell_type": "code",
      "execution_count": null,
      "metadata": {},
      "outputs": [],
      "source": []
    }
  ],
  "metadata": {
    "colab": {
      "provenance": []
    },
    "kernelspec": {
      "display_name": "Python 3",
      "language": "python",
      "name": "python3"
    },
    "language_info": {
      "codemirror_mode": {
        "name": "ipython",
        "version": 3
      },
      "file_extension": ".py",
      "mimetype": "text/x-python",
      "name": "python",
      "nbconvert_exporter": "python",
      "pygments_lexer": "ipython3",
      "version": "3.11.5"
    }
  },
  "nbformat": 4,
  "nbformat_minor": 0
}
